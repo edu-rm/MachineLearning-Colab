{
  "nbformat": 4,
  "nbformat_minor": 0,
  "metadata": {
    "colab": {
      "name": "simple_linear_regression.ipynb",
      "provenance": [],
      "collapsed_sections": [],
      "authorship_tag": "ABX9TyM4vXGlhEewxoh+28ZjV+/j"
    },
    "kernelspec": {
      "name": "python3",
      "display_name": "Python 3"
    }
  },
  "cells": [
    {
      "cell_type": "code",
      "metadata": {
        "id": "SqiFWqmzq54I",
        "colab_type": "code",
        "colab": {}
      },
      "source": [
        "from google.colab import drive\n",
        "drive.mount('/content/drive')"
      ],
      "execution_count": 0,
      "outputs": []
    },
    {
      "cell_type": "code",
      "metadata": {
        "id": "rXg4uJpwoKLV",
        "colab_type": "code",
        "colab": {}
      },
      "source": [
        "# Simple Linear Regression\n",
        "\n",
        "# y = b0 + b1*x1\n",
        " \n",
        "# y: DV ( Dependent variable ), como o salário de uma pessoa muda com os anos de \n",
        "# experiência.\n",
        "# Outro exemplo: qual nota um estudante vai ter dependendo de quanto tempo ele \n",
        "# passa estudando.\n",
        "# Basicamente como algo depende de outra coisa \n",
        "\n",
        "# x: IV ( independent variable ), é a variável que assumimos que está causando \n",
        "# mudança na DV, ou muitas vezes decobrimos quea IV não possui uma causa direta \n",
        "# no valor da DV.\n",
        "\n",
        "# b1 : coeficiente da IV, podemos nos referir como a que muda unitariamente o x1\n",
        "# COMO UMA MUDANÇA DE UNIDADE NO X1 AFETA UMA UNIDADE DE Y1.\n",
        "# É o conector de y com x1, a mudança em x tem um coeficiente proporcional \n",
        "# de mudança em y\n",
        "\n",
        "\n",
        "# b0 : É uma constante\n",
        "\n",
        "# É o ponto que a linha toca no eixo x\n",
        "# Se toca em 30 k, é igual a dizer que se uma pessoa tiver 0 experiência, ou seja,\n",
        "# não tiver experiência o seu salário será PROVAVELMENTE 30k, POIS:\n",
        "# b0 + b1*x1 = 30k + b1 * 0 = 30 k + 0 = 30 k.\n",
        "\n",
        "# Nesse caso o que será b1 ? \n",
        "# Será o slope of the line ( a inclinação da linha )\n",
        "# Quanto mais steeper ( íngreme ) a linha, mais dinheiro ganhará por ano de \n",
        "# experiência\n",
        "\n",
        "\n",
        "# Existe uma distribuição de salário que depende da experiência, o que a SLR faz \n",
        "# é simplesmente colocar uma linha reta que melhor se encaixa nessa distribuição\n",
        "# Salário  = b0 + b1 * Experiência\n",
        "\n",
        "\n",
        "\n",
        "# Problem: \n",
        "# What's the correlation?\n",
        "\n"
      ],
      "execution_count": 0,
      "outputs": []
    }
  ]
}