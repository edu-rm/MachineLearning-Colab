{
  "nbformat": 4,
  "nbformat_minor": 0,
  "metadata": {
    "colab": {
      "name": "DataPreprocessing.ipynb",
      "provenance": [],
      "authorship_tag": "ABX9TyPf4gHMDXVUoLo7rHudDo+L"
    },
    "kernelspec": {
      "name": "python3",
      "display_name": "Python 3"
    }
  },
  "cells": [
    {
      "cell_type": "code",
      "metadata": {
        "id": "oqvFJfKiaJnR",
        "colab_type": "code",
        "colab": {}
      },
      "source": [
        "from google.colab import drive\n",
        "drive.mount('/content/drive')\n"
      ],
      "execution_count": 0,
      "outputs": []
    },
    {
      "cell_type": "code",
      "metadata": {
        "id": "miOA1pBKavdr",
        "colab_type": "code",
        "colab": {}
      },
      "source": [
        "# Data Preprocessing\n",
        "\n",
        "# Importing the libraries\n",
        "# Library is a tool that you can do a specific job\n",
        "# Inputs -> Library -> Outputs\n",
        "\n",
        "# 3 Essentials libraries, every time.\n",
        "\n",
        "# Numpy: contém ferramentas matemáticas.\n",
        "import numpy as np \n",
        "\n",
        "# To plot nice charts\n",
        "import matplotlib.pyplot as plt \n",
        "\n",
        "# To import datasets and manage datasets\n",
        "import pandas as pd\n",
        "\n",
        "dataset = pd.read_csv('/content/drive/My Drive/Datasets/Data.csv')\n",
        "# Vamos dividir as variaveis dependentes das independentes\n",
        "\n",
        "# [: = All the lines. :-1] = All the columns except the last one \n",
        "X = dataset.iloc[:,:-1].values\n",
        "\n",
        "y = dataset.iloc[:,-1].values\n",
        "\n",
        "# y = dataset.iloc[:,3].values"
      ],
      "execution_count": 0,
      "outputs": []
    },
    {
      "cell_type": "code",
      "metadata": {
        "id": "pAmARGVobKHr",
        "colab_type": "code",
        "colab": {}
      },
      "source": [
        "# Missing the data \n",
        "# We can remove that lines, but it can be dangerous becuse these lines can have crucial information\n",
        "\n",
        "# To take the mean af columns.\n",
        "\n",
        "# SK Learn - Imputer : lead with the missing data\n",
        "# Imputer = class\n",
        "\n",
        "from sklearn.impute import SimpleImputer\n",
        "\n",
        "imputer = SimpleImputer(missing_values=np.nan, strategy='mean')\n",
        "\n",
        "X[:, 1:3] = imputer.fit_transform(X[:, 1:3])"
      ],
      "execution_count": 0,
      "outputs": []
    },
    {
      "cell_type": "code",
      "metadata": {
        "id": "vY0Em14-bShB",
        "colab_type": "code",
        "colab": {}
      },
      "source": [
        "# Encoding categorical data\n",
        "\n",
        "# Machine learning é completamente matemática, então como ficará os atrbutos de texto ? \n",
        "# need to encode, text into numbers\n",
        "\n",
        "from sklearn.preprocessing import LabelEncoder, OneHotEncoder\n",
        "from sklearn.compose import ColumnTransformer\n",
        "\n",
        "# Dummy Encoding\n",
        "\n",
        "# Invés de usar uma coluna, usaremos 3 colunas(Espanha, França e Alemanha) \n",
        "# com valores binários\n",
        "\n",
        "# Número de colunas = Número de categorias\n",
        "\n",
        "labelencoder_X = LabelEncoder() \n",
        "X[:, 0] = labelencoder_X.fit_transform(X[:, 0])\n",
        "\n",
        "ct = ColumnTransformer(\n",
        "    [('one_hot_encoder', OneHotEncoder(categories='auto'), [0])],   \n",
        "    remainder='passthrough'\n",
        ")\n",
        "\n",
        "X = ct.fit_transform(X)\n",
        "\n",
        "# Precisamos fazer o mesmo com a variavel dependente,\n",
        "# o modelo sabe que ela é categórica então basta usar \n",
        "# o LabelEncoder: precisamos criar um outro objeto pois\n",
        "# labelencoder_X ja foi preenchido(fit) com X\n",
        "\n",
        "labelencoder_y = LabelEncoder() \n",
        "y = labelencoder_y.fit_transform(y)\n",
        "\n"
      ],
      "execution_count": 0,
      "outputs": []
    }
  ]
}