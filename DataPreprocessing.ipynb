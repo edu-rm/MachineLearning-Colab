{
  "nbformat": 4,
  "nbformat_minor": 0,
  "metadata": {
    "colab": {
      "name": "DataPreprocessing.ipynb",
      "provenance": [],
      "authorship_tag": "ABX9TyPwFr2IPrkQYXuUn1GSPeG3",
      "include_colab_link": true
    },
    "kernelspec": {
      "name": "python3",
      "display_name": "Python 3"
    }
  },
  "cells": [
    {
      "cell_type": "markdown",
      "metadata": {
        "id": "view-in-github",
        "colab_type": "text"
      },
      "source": [
        "<a href=\"https://colab.research.google.com/github/edu-rm/MachineLearning-Colab/blob/master/DataPreprocessing.ipynb\" target=\"_parent\"><img src=\"https://colab.research.google.com/assets/colab-badge.svg\" alt=\"Open In Colab\"/></a>"
      ]
    },
    {
      "cell_type": "code",
      "metadata": {
        "id": "oqvFJfKiaJnR",
        "colab_type": "code",
        "colab": {}
      },
      "source": [
        "from google.colab import drive\n",
        "drive.mount('/content/drive')\n"
      ],
      "execution_count": 0,
      "outputs": []
    },
    {
      "cell_type": "code",
      "metadata": {
        "id": "miOA1pBKavdr",
        "colab_type": "code",
        "colab": {}
      },
      "source": [
        "# Data Preprocessing\n",
        "\n",
        "# Importing the libraries\n",
        "# Library is a tool that you can do a specific job\n",
        "# Inputs -> Library -> Outputs\n",
        "\n",
        "# 3 Essentials libraries, every time.\n",
        "\n",
        "# Numpy: contém ferramentas matemáticas.\n",
        "import numpy as np \n",
        "\n",
        "# To plot nice charts\n",
        "import matplotlib.pyplot as plt \n",
        "\n",
        "# To import datasets and manage datasets\n",
        "import pandas as pd\n",
        "\n",
        "dataset = pd.read_csv('/content/drive/My Drive/Datasets/Data.csv')\n",
        "# Vamos dividir as variaveis dependentes das independentes\n",
        "\n",
        "# [: = All the lines. :-1] = All the columns except the last one \n",
        "X = dataset.iloc[:,:-1].values\n",
        "\n",
        "y = dataset.iloc[:,-1].values\n",
        "\n",
        "# y = dataset.iloc[:,3].values"
      ],
      "execution_count": 0,
      "outputs": []
    }
  ]
}