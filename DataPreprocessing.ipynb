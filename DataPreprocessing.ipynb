{
  "nbformat": 4,
  "nbformat_minor": 0,
  "metadata": {
    "colab": {
      "name": "DataPreprocessing.ipynb",
      "provenance": [],
      "authorship_tag": "ABX9TyMUR5TfhdStLXzJiT8+7Fcd"
    },
    "kernelspec": {
      "name": "python3",
      "display_name": "Python 3"
    }
  },
  "cells": [
    {
      "cell_type": "code",
      "metadata": {
        "id": "oqvFJfKiaJnR",
        "colab_type": "code",
        "colab": {}
      },
      "source": [
        "from google.colab import drive\n",
        "drive.mount('/content/drive')\n"
      ],
      "execution_count": 0,
      "outputs": []
    },
    {
      "cell_type": "code",
      "metadata": {
        "id": "miOA1pBKavdr",
        "colab_type": "code",
        "colab": {}
      },
      "source": [
        "# Data Preprocessing\n",
        "\n",
        "# Importing the libraries\n",
        "# Library is a tool that you can do a specific job\n",
        "# Inputs -> Library -> Outputs\n",
        "\n",
        "# 3 Essentials libraries, every time.\n",
        "\n",
        "# Numpy: contém ferramentas matemáticas.\n",
        "import numpy as np \n",
        "\n",
        "# To plot nice charts\n",
        "import matplotlib.pyplot as plt \n",
        "\n",
        "# To import datasets and manage datasets\n",
        "import pandas as pd\n",
        "\n",
        "dataset = pd.read_csv('/content/drive/My Drive/Datasets/Data.csv')\n",
        "# Vamos dividir as variaveis dependentes das independentes\n",
        "\n",
        "# [: = All the lines. :-1] = All the columns except the last one \n",
        "X = dataset.iloc[:,:-1].values\n",
        "\n",
        "y = dataset.iloc[:,-1].values\n",
        "\n",
        "# y = dataset.iloc[:,3].values"
      ],
      "execution_count": 0,
      "outputs": []
    },
    {
      "cell_type": "code",
      "metadata": {
        "id": "pAmARGVobKHr",
        "colab_type": "code",
        "colab": {}
      },
      "source": [
        "# Missing the data \n",
        "# We can remove that lines, but it can be dangerous becuse these lines can have crucial information\n",
        "\n",
        "# To take the mean af columns.\n",
        "\n",
        "# SK Learn - Imputer : lead with the missing data\n",
        "# Imputer = class\n",
        "\n",
        "from sklearn.impute import SimpleImputer\n",
        "\n",
        "imputer = SimpleImputer(missing_values=np.nan, strategy='mean')\n",
        "\n",
        "X[:, 1:3] = imputer.fit_transform(X[:, 1:3])"
      ],
      "execution_count": 0,
      "outputs": []
    }
  ]
}